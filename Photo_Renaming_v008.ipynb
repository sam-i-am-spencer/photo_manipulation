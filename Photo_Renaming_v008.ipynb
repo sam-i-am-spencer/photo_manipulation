{
 "cells": [
  {
   "cell_type": "markdown",
   "metadata": {},
   "source": [
    "# Image Renaming\n",
    "**To Do:**\n",
    "- Make this robust for absolute and relative file paths\n",
    "- Make this work for other types of files/images\n"
   ]
  },
  {
   "cell_type": "markdown",
   "metadata": {},
   "source": [
    "1. Following code is used to rename images with a name and number\n",
    "2. Any image deletion (i.e. culling images) should be done BEFORE using this tool\n",
    "3. The iterator allows the images to be easily stitched together into video later\n",
    "4. The source and destination folders can be the same\n",
    "\n",
    "**WARNING:** Setting the input and output directories as the same can result in loss of images"
   ]
  },
  {
   "cell_type": "code",
   "execution_count": 1,
   "metadata": {},
   "outputs": [],
   "source": [
    "import os\n",
    "import glob"
   ]
  },
  {
   "cell_type": "code",
   "execution_count": 2,
   "metadata": {},
   "outputs": [],
   "source": [
    "# Folder with images to rename\n",
    "abs_src_path = r\"/Users/gecko/Dropbox/Photos/Data_Memes/test_input\"\n",
    "\n",
    "# Folder to place renamed images\n",
    "#abs_dst_path = abs_src_path\n",
    "abs_dst_path = r\"/Users/gecko/Dropbox/Photos/Data_Memes/test_output\""
   ]
  },
  {
   "cell_type": "code",
   "execution_count": 3,
   "metadata": {},
   "outputs": [
    {
     "data": {
      "text/plain": [
       "'test_input'"
      ]
     },
     "execution_count": 3,
     "metadata": {},
     "output_type": "execute_result"
    }
   ],
   "source": [
    "#file_name_label = \"space_visit\"\n",
    "# OR\n",
    "# Get the directory name to use for renaming files\n",
    "file_name_label = abs_src_path.split('/')[-1]\n",
    "file_name_label"
   ]
  },
  {
   "cell_type": "code",
   "execution_count": 4,
   "metadata": {},
   "outputs": [
    {
     "name": "stdout",
     "output_type": "stream",
     "text": [
      "2\n"
     ]
    }
   ],
   "source": [
    "# Set iterator padding, i.e. 0001 or 01 etc.\n",
    "iter_pad = 2\n",
    "\n",
    "# OR\n",
    "\n",
    "# File extensions to search for\n",
    "file_ext = [\".jpg\", \".JPG\", \".jpeg\", \".JPG\"]\n",
    "image_counter = 0\n",
    "for ext in file_ext:\n",
    "    image_counter += len(glob.glob1(abs_src_path, \"*\" + ext))\n",
    "\n",
    "# Store the size 10's, 100's, 1000's etc to pad our counter\n",
    "iter_pad = len(str(image_counter))\n",
    "print(iter_pad)"
   ]
  },
  {
   "cell_type": "code",
   "execution_count": 5,
   "metadata": {},
   "outputs": [
    {
     "name": "stdout",
     "output_type": "stream",
     "text": [
      "test_input_00.jpg\n",
      "test_input_01.jpg\n",
      "test_input_02.jpg\n",
      "test_input_03.jpg\n",
      "test_input_04.jpg\n",
      "test_input_05.jpg\n",
      "test_input_06.jpg\n",
      "test_input_07.jpg\n",
      "test_input_08.jpg\n",
      "test_input_09.jpg\n",
      "test_input_10.jpg\n",
      "test_input_11.jpg\n",
      "test_input_12.jpg\n",
      "test_input_13.jpg\n",
      "test_input_14.jpg\n",
      "test_input_15.jpg\n",
      "test_input_16.jpg\n",
      "test_input_17.jpg\n",
      "test_input_18.jpg\n",
      "test_input_19.jpg\n",
      "test_input_20.jpg\n",
      "test_input_21.jpg\n",
      "test_input_22.jpg\n",
      "test_input_23.jpg\n",
      "test_input_24.jpg\n"
     ]
    }
   ],
   "source": [
    "# r=root, d=directories, f = files\n",
    "for r, d, f in os.walk(abs_src_path):\n",
    "    i=0\n",
    "    for file in f:\n",
    "        # Look for .jpg|.JPG|.jpeg|.JPEG\n",
    "        if any(x in file.lower() for x in [\".jpg\", \".JPG\", \".jpeg\", \".JPG\"]):\n",
    "            src = os.path.join(r, file)\n",
    "            file_name = file_name_label + \"_\" + str(i).zfill(iter_pad) + \".jpg\"\n",
    "            print(file_name)\n",
    "            dst = abs_dst_path + \"/\" + file_name\n",
    "            os.rename(src, dst)\n",
    "            i+=1"
   ]
  },
  {
   "cell_type": "code",
   "execution_count": null,
   "metadata": {},
   "outputs": [],
   "source": []
  }
 ],
 "metadata": {
  "kernelspec": {
   "display_name": "Python [conda env:py36]",
   "language": "python",
   "name": "conda-env-py36-py"
  },
  "language_info": {
   "codemirror_mode": {
    "name": "ipython",
    "version": 3
   },
   "file_extension": ".py",
   "mimetype": "text/x-python",
   "name": "python",
   "nbconvert_exporter": "python",
   "pygments_lexer": "ipython3",
   "version": "3.6.8"
  }
 },
 "nbformat": 4,
 "nbformat_minor": 2
}
